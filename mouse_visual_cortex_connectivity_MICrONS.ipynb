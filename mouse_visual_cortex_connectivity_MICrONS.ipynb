{
 "cells": [
  {
   "cell_type": "markdown",
   "id": "3242c400-4f90-4013-a2c7-c5d64e6d4d4f",
   "metadata": {},
   "source": [
    "# Access and analysis of the MICrONS dataset\n",
    "\n",
    "[![Open In Colab](https://colab.research.google.com/assets/colab-badge.svg)](https://colab.research.google.com/github/sdorkenw/AMATH_342_neuronal_circuits/blob/main/mouse_visual_cortex_connectivity_MICrONS.ipynb)"
   ]
  },
  {
   "cell_type": "markdown",
   "id": "cee96ece-4ffc-4a4d-8e2f-15ae406c9dda",
   "metadata": {},
   "source": [
    "<div style=\"border-left: 3px solid #000; padding: 1px; padding-left: 10px; background: #F0FAFF; \">\n",
    "   \n",
    "<b> Electron Microscopy (EM) data enables morphological reconstruction of neurons and detection of their synaptic connectivity </b>. The <a href=https://www.microns-explorer.org/cortical-mm3>MICrONS dataset </a> is one of the largest datasets volume EM datasets currently available, and spans all layers of visual cortex. We will be using this dataset to query the connectivity between neurons in the visual cortex. \n",
    "    \n",
    "<em> Note on data access: </em> To make our lifes easier, we already queried the most of the data needed for this exercise from the database. We have made it available as versioned files that can be read with pandas. The entire dataset is hosted using the <a href=https://caveconnectome.github.io/sections/cave_overview.html> Connectome Annotation Versioning Engine (CAVE) </a>. A separate notebook shows how to use CAVE to generate the files used in this notebook. \n",
    "    \n",
    "    \n",
    "</div>"
   ]
  },
  {
   "cell_type": "code",
   "execution_count": null,
   "id": "930eb0df-7c64-4d67-95b7-932b3a776eac",
   "metadata": {},
   "outputs": [],
   "source": [
    "mat_version = 1300\n",
    "\n",
    "# Paths to compiled data for this workshop\n",
    "syn_data_url = f\"https://github.com/sdorkenw/MICrONS_workshop_CNC_forum/raw/refs/heads/main/data/synapses_proofread_V1_neurons_{mat_version}.feather\"\n",
    "cell_data_url = f\"https://github.com/sdorkenw/MICrONS_workshop_CNC_forum/raw/refs/heads/main/data/cell_info_{mat_version}.feather\" "
   ]
  },
  {
   "cell_type": "markdown",
   "id": "38823119-e22a-4204-a78f-72ce392a29bb",
   "metadata": {},
   "source": [
    "<div style=\"border-left: 3px solid #000; padding: 1px; padding-left: 10px; background: #F0FAFF; \">\n",
    "   \n",
    "For convenience, we also use the package <b>skeleton_plot</b> which handles rendering the precomputed skeletons. Both packages can be installed with pip.\n",
    "    \n",
    "</div>"
   ]
  },
  {
   "cell_type": "code",
   "execution_count": null,
   "id": "25b6e34d-c0c7-4c63-83f9-bc46a4f69cd1",
   "metadata": {
    "scrolled": true
   },
   "outputs": [],
   "source": [
    "!pip install -q skeleton_plot\n",
    "!pip install -q"
   ]
  },
  {
   "cell_type": "code",
   "execution_count": null,
   "id": "422b5e92-729a-4877-9135-d23f3d2e4317",
   "metadata": {},
   "outputs": [],
   "source": [
    "import skeleton_plot as skelplot\n",
    "\n",
    "import pandas as pd\n",
    "import numpy as np\n",
    "from matplotlib import pyplot as plt\n",
    "import matplotlib\n",
    "import seaborn as sns"
   ]
  },
  {
   "cell_type": "markdown",
   "id": "99299906-4fff-4bc4-a04f-d2276694b48d",
   "metadata": {},
   "source": [
    "<div style=\"border-left: 3px solid #000; padding: 1px; padding-left: 10px; background: #F0FAFF; \">\n",
    "\n",
    "    \n",
    "## CAVE token\n",
    "\n",
    "After following the instructions in the CAVE setup notebook, copy your tolen to replace `PASTE_TOKEN_HERE` below. You can always get your token here: https://global.daf-apis.com/auth/api/v1/user/token\n",
    "\n",
    "Look for `\"token\"`, the following string will be your token.\n",
    "    \n",
    "</div>"
   ]
  },
  {
   "cell_type": "code",
   "execution_count": null,
   "id": "0eaa0dcf-1074-4cec-bf55-fd3c9d94dbf6",
   "metadata": {},
   "outputs": [],
   "source": [
    "my_token = \"PASTE_TOKEN_HERE\"\n",
    "\n",
    "try:\n",
    "    import caveclient\n",
    "    client = caveclient.CAVEclient(\"minnie65_public\", auth_token=my_token)\n",
    "except:\n",
    "    client = None"
   ]
  },
  {
   "cell_type": "markdown",
   "id": "198679e1-cb29-4620-ae1d-58e326ec3f6c",
   "metadata": {},
   "source": [
    "<div style=\"border-left: 3px solid #000; padding: 1px; padding-left: 10px; background: #F0FAFF; \">\n",
    "\n",
    "    \n",
    "## Proofreading and data quality\n",
    "\n",
    "Understanding this variablity in data quality is critical when interpretting the MICrONS data.\n",
    "\n",
    "Automated segmentation of neuronal processes in dense EM imaging is challenging at the size of entire neurons, which can have millimeters of axons and dendrites. The automated segmentation algorithms used in the EM data for this project are not perfect, and so proofreading is necessary to obtain accurate reconstructions of a cell and confidence in the connectivity\n",
    "\n",
    "In the MICrONS dataset, the general rule is that dendrites onto cells with a cell body are sufficiently proofread to trust synaptic connections onto a cell. Axons on the other hand require so much proofreading that only ~1,650 cells have proofread axons.\n",
    "\n",
    "Axon and dendrite compartment status are marked separately, as proofreading effort was applied differently to the different compartments in some cells.  In all cases, a status of `TRUE` indicates that false merges have been comprehensively removed, and the compartment is at least ‘clean’. Consult the ‘strategy’ column if completeness of the compartment is relevant to your  research.\n",
    "\n",
    "Some cells were extended to different degrees of completeness, or with different research goals in mind. This is denoted by 'strategy_axon', which may be one of:\n",
    "\n",
    "<ul>\n",
    "    <li>none: No cleaning, and no extension, and status is `FALSE`. </li>\n",
    "    <li>axon_partially_extended: The axon was extended outward from the soma, following each branch to its termination. Output synapses represent a sampling of potential partners. </li>\n",
    "    <li>axon_interareal: The axon was extended with a preference for branches that projected to other brain areas. Some axon branches were fully extended, but local connections may be incomplete. Output synapses represent a sampling of potential partners. </li>\n",
    "    <li>axon_fully_extended: Axon was extended outward from the soma, following each branch to its termination. After initial extension, every endpoint was identified, manually inspected, and extended again if possible. Output synapses represent a largely complete sampling of partners.. </li>\n",
    "</ul>\n",
    "\n",
    "<b> For this class, we treat all cells with at least `axon_partially_extended` as equally trustworth.</b> \n",
    "    \n",
    "</div>"
   ]
  },
  {
   "cell_type": "code",
   "execution_count": null,
   "id": "1ff7b44b-fb81-4533-ab76-b58ff6d7b1c6",
   "metadata": {},
   "outputs": [],
   "source": [
    "cell_df = pd.read_feather(cell_data_url)"
   ]
  },
  {
   "cell_type": "code",
   "execution_count": null,
   "id": "53522f5e-754b-44ad-b342-fc9772b71f74",
   "metadata": {},
   "outputs": [],
   "source": [
    "cell_df[\"proofreading_strategy\"].value_counts()"
   ]
  },
  {
   "cell_type": "code",
   "execution_count": null,
   "id": "9039c34b-3a42-4142-8552-d59b4ee64579",
   "metadata": {},
   "outputs": [],
   "source": [
    "proofread_root_ids = np.array(cell_df[cell_df[\"proofreading_strategy\"] != \"\"][\"pt_root_id\"])\n",
    "len(proofread_root_ids)"
   ]
  },
  {
   "cell_type": "markdown",
   "id": "cf103af2-8bab-4255-9f3b-972cf9f7c0d7",
   "metadata": {},
   "source": [
    "<div style=\"border-left: 3px solid #000; padding: 1px; padding-left: 10px; background: #F0FAFF; \">\n",
    "\n",
    "    \n",
    "## Synapse information\n",
    "\n",
    "There are <b>337 million synapses</b> in the MICrONS dataset.\n",
    "\n",
    "We have collected all of the input and output synapses for the proofread cells in version 1300. If you are interested in working with this dataset in the future, we added a notebook that shows how the data was queried.\n",
    "\n",
    "Note that synapse queries always return the list of every synapse between the neurons in the query, even if there are multiple synapses between the same pair of neurons. A common pattern to generate a list of connections between unique pairs of neurons is to group by the root ids of the presynaptic and postsynaptic neurons and then count the number of synapses between them. \n",
    "    \n",
    "    \n",
    "</div>"
   ]
  },
  {
   "cell_type": "code",
   "execution_count": null,
   "id": "a546a6c9-b7eb-495f-904d-6c56a29be213",
   "metadata": {},
   "outputs": [],
   "source": [
    "syn_df = pd.read_feather(syn_data_url)\n",
    "syn_df.shape"
   ]
  },
  {
   "cell_type": "markdown",
   "id": "141dae3b-4f71-4da3-a149-4fcbf7b68a92",
   "metadata": {},
   "source": [
    "<div style=\"border-left: 3px solid #000; padding: 1px; padding-left: 10px; background: #F0FAFF; \">\n",
    "\n",
    "    \n",
    "## Neuron morphology: plotting skeletons\n",
    "    \n",
    "</div>"
   ]
  },
  {
   "cell_type": "code",
   "execution_count": null,
   "id": "0089974c-bf10-403d-8ef9-fa4d45588696",
   "metadata": {},
   "outputs": [],
   "source": [
    "skel_color_map = {3: \"firebrick\", 4: \"salmon\", 2: \"steelblue\", 1: \"olive\"}\n",
    "\n",
    "def plot_skeleton(sk_d: dict, plot_soma=True, ax=None):\n",
    "    \"\"\"Plots a skeleton.\n",
    "    \n",
    "    Args:\n",
    "        sk: skeleton dict as returned from CAVEclient\n",
    "        \n",
    "    Returns: \n",
    "        ax: plot axes\n",
    "    \"\"\"\n",
    "    if ax is None:\n",
    "        fig, ax = plt.subplots(figsize=(7, 10), dpi=150)\n",
    "    \n",
    "    skelplot.plot_tools.plot_verts(np.array(sk_d[\"vertices\"]), np.array(sk_d[\"edges\"]), radius=np.array(sk_d[\"radius\"]) / 1000 * 1,\n",
    "                                   ax=ax, skel_colors = sk_d[\"compartment\"], title = \"\", skel_alpha = 1., \n",
    "                                   line_width = 5, x = 'x', y = 'y',  plot_soma = plot_soma, soma_node = sk_d[\"root\"],\n",
    "                                   color = 'darkslategray', soma_size = 120, invert_y = True, \n",
    "                                   skel_color_map = skel_color_map, x_min_max = None, \n",
    "                                   y_min_max = None, capstyle = \"round\", joinstyle = \"round\",)\n",
    "\n",
    "    ax.spines['right'].set_visible(False) \n",
    "    ax.spines['left'].set_visible(False) \n",
    "    ax.spines['top'].set_visible(False) \n",
    "    ax.spines['bottom'].set_visible(False)\n",
    "    ax.axis('off')\n",
    "    \n",
    "    return ax"
   ]
  },
  {
   "cell_type": "code",
   "execution_count": null,
   "id": "d2474163-2b6b-4891-929d-6304b5aca3be",
   "metadata": {},
   "outputs": [],
   "source": [
    "# select from the cells which are fully extended\n",
    "root_id = proofread_root_ids[2]\n",
    "\n",
    "# Query the skeleton from CAVEclient\n",
    "if client is None:\n",
    "    raise Exception(\"CAVEclient not initialized - did you set your token?\")\n",
    "else:\n",
    "    sk_d = client.skeleton.get_skeleton(root_id, output_format=\"dict\")"
   ]
  },
  {
   "cell_type": "code",
   "execution_count": null,
   "id": "df9de11f-5f41-4354-8f5e-ea3fcf0fd6ed",
   "metadata": {},
   "outputs": [],
   "source": [
    "# Plot skeleton in 2D\n",
    "ax = plot_skeleton(sk_d)\n",
    "plt.show()"
   ]
  },
  {
   "cell_type": "markdown",
   "id": "994f7ec9-7a3a-4df0-bc15-8f1225a0070f",
   "metadata": {},
   "source": [
    "<div style=\"border-left: 3px solid #000; padding: 1px; padding-left: 10px; background: #F0FAFF; \">\n",
    "\n",
    "    \n",
    "## Neuron morphology & synapses\n",
    "    \n",
    "</div>"
   ]
  },
  {
   "cell_type": "code",
   "execution_count": null,
   "id": "a91211c2-5ac6-4e71-8a13-1a0b43f5d23a",
   "metadata": {},
   "outputs": [],
   "source": [
    "def filter_synapse_table(synapse_table: pd.DataFrame, pre_root_ids=None, post_root_ids=None):   \n",
    "    \"\"\"Filter synapse table by pre and post root ids.\n",
    "\n",
    "    Args:\n",
    "        synapse_table: synapse table with pre_pt_root_ids and post_pt_root_ids as pd.DataFrame\n",
    "        pre_root_ids: np.ndarray, list or pd.Series if root_ids to filter on the presynaptic side\n",
    "        post_root_ids: np.ndarray, list or pd.Series if root_ids to filter on the postsynaptic side\n",
    "\n",
    "    Returns:\n",
    "        synapse_table: filtered synapse table\n",
    "    \"\"\"\n",
    "    \n",
    "    if pre_root_ids is not None:\n",
    "        assert isinstance(pre_root_ids, (np.ndarray, list, pd.core.series.Series)), f\"IDs have to be of type np.ndarray, list or pd.Series; got {type(pre_root_ids)}\"\n",
    "        pre_m = np.isin(synapse_table[\"pre_pt_root_id\"], pre_root_ids)\n",
    "    else:\n",
    "        pre_m = np.ones(len(synapse_table), dtype=bool)\n",
    "        \n",
    "    if post_root_ids is not None:\n",
    "        assert isinstance(post_root_ids, (np.ndarray, list, pd.core.series.Series)), f\"IDs have to be of type np.ndarray, list or pd.Series; got {type(pre_root_ids)}\"\n",
    "        post_m = np.isin(synapse_table[\"post_pt_root_id\"], post_root_ids)\n",
    "    else:\n",
    "        post_m = np.ones(len(synapse_table), dtype=bool)\n",
    "        \n",
    "    return synapse_table[pre_m & post_m]"
   ]
  },
  {
   "cell_type": "code",
   "execution_count": null,
   "id": "92f48c5e-5c2b-4aad-8038-ec3cf9211bc4",
   "metadata": {},
   "outputs": [],
   "source": [
    "# Select the synapses where your root_id is the presynaptic ('upstream') cell; the outputs of your cell\n",
    "pre_syns = filter_synapse_table(syn_df, pre_root_ids=[root_id])"
   ]
  },
  {
   "cell_type": "code",
   "execution_count": null,
   "id": "adeffc3d-c0d9-49ba-a499-b02590644795",
   "metadata": {},
   "outputs": [],
   "source": [
    "pre_syns.head(5)"
   ]
  },
  {
   "cell_type": "code",
   "execution_count": null,
   "id": "f83d7e43-1ea0-4704-919b-8e3bf7937f10",
   "metadata": {},
   "outputs": [],
   "source": [
    "# Plot your skeleton and overlay synapses\n",
    "ax = plot_skeleton(sk_d)\n",
    "\n",
    "sns.scatterplot(data=pre_syns, x=\"ctr_pt_position_x\", y=\"ctr_pt_position_y\", \n",
    "                s=5, color=\"b\", ax=ax, edgecolor=None, zorder=100) "
   ]
  },
  {
   "cell_type": "markdown",
   "id": "53e4d6e5-c7c1-4292-ba7a-62c6179ad1a6",
   "metadata": {},
   "source": [
    "<div style=\"background: #DFF0D8; border-radius: 3px; padding: 10px;\">\n",
    "<p><b>Task:</b> Use the filter function above to create a dataframe of all postsynaptic synapses and create a version of the plot above that includes these postsynaptic synapses. \n",
    "    \n",
    "</div>"
   ]
  },
  {
   "cell_type": "code",
   "execution_count": null,
   "id": "b9bbd370-88e2-4696-9acc-a6c7d65e9ac3",
   "metadata": {},
   "outputs": [],
   "source": [
    "# Select the synapses where your root_id is postsynaptic ('downstream'); the inputs to your cell\n",
    "post_syns = filter_synapse_table(syn_df, post_root_ids=[root_id])"
   ]
  },
  {
   "cell_type": "code",
   "execution_count": null,
   "id": "067d5b53-9f0d-42ec-b64d-ec8db7c282d2",
   "metadata": {},
   "outputs": [],
   "source": [
    "# Plot skeleton with input and output synapses\n",
    "ax = plot_skeleton(sk_d)\n",
    "\n",
    "sns.scatterplot(data=pre_syns, x=\"ctr_pt_position_x\", y=\"ctr_pt_position_y\", \n",
    "                s=5, color=\"b\", ax=ax, edgecolor=None, zorder=100) \n",
    "\n",
    "sns.scatterplot(data=post_syns, x=\"ctr_pt_position_x\", y=\"ctr_pt_position_y\", \n",
    "                s=5, color=\"r\", ax=ax, edgecolor=None, zorder=100) "
   ]
  },
  {
   "cell_type": "markdown",
   "id": "38d12ea5-e153-4c82-b990-29b535e69af5",
   "metadata": {},
   "source": [
    "<div style=\"border-left: 3px solid #000; padding: 1px; padding-left: 10px; background: #F0FAFF; \">\n",
    "\n",
    "## Synapse matrix\n",
    "\n",
    "The synapses of neurons create a network of synaptic connections. One way of visualizing this connectivity is in a matrix form. Pandas provides the `pivot_table` function that we can use to make a matrix out of the tabular synapse data. For now, we will limit ourselves to the synapses between the proofread neurons.\n",
    "    \n",
    "Each synapses has a `size` value assigned to it. How to aggregate the sizes from multiple synapes between two neurons depends on the research question.\n",
    "\n",
    "</d>"
   ]
  },
  {
   "cell_type": "code",
   "execution_count": null,
   "id": "842ecc2c-f0b6-4ca1-a6bd-60cba6dff0d4",
   "metadata": {},
   "outputs": [],
   "source": [
    "proof_proof_syn_table = filter_synapse_table(syn_df, pre_root_ids=proofread_root_ids, post_root_ids=proofread_root_ids)\n",
    "\n",
    "# matrix of log-summed synapse size\n",
    "syn_mat = proof_proof_syn_table.pivot_table(index=\"pre_pt_root_id\", columns=\"post_pt_root_id\", \n",
    "                                            values=\"size\", aggfunc=lambda x: np.log10(np.sum(x))).fillna(0)\n",
    "\n",
    "# Make sure matrix is quadratic\n",
    "syn_mat = syn_mat.reindex(columns=np.array(syn_mat.index))"
   ]
  },
  {
   "cell_type": "code",
   "execution_count": null,
   "id": "8e9cdef3-bfb8-4763-b102-747d2cb6cd2c",
   "metadata": {},
   "outputs": [],
   "source": [
    "fig, ax = plt.subplots(figsize=(7, 5), dpi=150)\n",
    "sns.heatmap(syn_mat, cmap=\"gray_r\", xticklabels=[], yticklabels=[], \n",
    "            ax=ax, square=True,\n",
    "            cbar_kws={\"label\": \"Log summed synapse size (AU)\"})"
   ]
  },
  {
   "cell_type": "markdown",
   "id": "21aa297c-3337-45ca-9c72-c28b2176230e",
   "metadata": {},
   "source": [
    "<div style=\"border-left: 3px solid #000; padding: 1px; padding-left: 10px; background: #F0FAFF; \">\n",
    "\n",
    "Above, we aggregated synapses between the same two neurons by summing their size followed by taken the log. It has been shown that connection strengths are generally log-normally distributed. Below we plot the connection strengths along a logarithmic axis:  \n",
    "\n",
    "\n",
    "</d>"
   ]
  },
  {
   "cell_type": "code",
   "execution_count": null,
   "id": "4189420e-3d59-4049-a880-812859c42530",
   "metadata": {},
   "outputs": [],
   "source": [
    "fig, ax = plt.subplots(figsize=(5, 5), dpi=150)\n",
    "sns.histplot(x=10**np.array(syn_mat).flatten()[np.array(syn_mat).flatten() > 0], ax=ax, bins=np.logspace(2, 6, 101))\n",
    "ax.set_xscale(\"log\")\n",
    "ax.set_xlabel(\"Connection size (AU)\")"
   ]
  },
  {
   "cell_type": "markdown",
   "id": "f617da7e-8d13-4658-8986-909c21756905",
   "metadata": {},
   "source": [
    "<div style=\"border-left: 3px solid #000; padding: 1px; padding-left: 10px; background: #F0FAFF; \">\n",
    "\n",
    "## Cell type tables\n",
    "\n",
    "Identifying the putative ‘cell type’ from the EM morphology is a process that involves both manual and automatic classifications. Subsets of the dataset have been manually classified by anatomists at the Allen Institute, and these ground truth labels used to train and refine different automated ‘feature classifiers’ over time. \n",
    "\n",
    "The diversity of manual and automated cell type classifications available in the dataset reflect the fact that definitions of ‘cell types’ in the dataset is an active area of research and must be contextualized against the purpose and resolution of the cell-typing being performed.\n",
    "\n",
    "<b> Manual Cell Types (V1 Column)</b>\n",
    "\n",
    "A subset of nucleus detections in a 100 um column (n=2204) in VISp were manually classified by anatomists at the Allen Institute into categories of cell subclasses, first distinguishing cells into classes of non-neuronal, excitatory and inhibitory. Excitatory cells were separated into laminar sub-classes (L23, L4), 3 sub-types of layer 5 cells (ET, IT, NP) and 2 classes of layer 6 cells (IT, CT). Inhibitory cells were classified into Bipolar (BPC), Basket (BC), Martinotti (MC), or Unsure (Unsure). Those neuronal calls are available from the CAVEclient under the table name `allen_v1_column_types_slanted_ref` which references the nucleus id of the cell, and the column `cell_type_manual` in the prepared data for this workshop. \n",
    "\n",
    "Non-neuronal manual cells type calls enumerate astrocytes, microglia, pericytes, oligodendrocytes (oligo), and oligodendrocyte precursor cells (OPC), and area available in the table `aibs_column_nonneuronal_ref`.\n",
    "\n",
    "<b>Automated Cell Type classification (Soma-nucleus model)</b>\n",
    "\n",
    "Models were trained based upon the manual Column Neuron labels, as described in <a href=https://www.biorxiv.org/content/10.1101/2022.07.20.499976v1>Elabbady et al. BioRxiv 2023.</a> Each nucleus was analyzed for a variety of features, and a model trained on and independent dataset to distinguish neurons from non-neuronal detections. Non-neuron detections include both glial cells and false positive detections. The nucleus segmentation detected 171,818 connected components of nucleus objects, this model detected 82K neurons. Evaluation of this model on 1,316 cells in the volume shows the model has a recall of 99.6% for neurons, and a precision of 96.9%. All nucleus detections and the results of this model can be queried and linked to the cellular segmentation using the CAVEclient with the table name nucleus_neuron_svm. \n",
    "\n",
    "Combining those features with the nucleus features we trained a hierachical model on the manual labels to predict cell-classes and sub-classes across a large number of neurons. This is available as CAVE table `aibs_metamodel_celltypes_v661`, and the column `cell_type_auto` in the prepared data for this workshop.\n",
    "    \n",
    "</d>"
   ]
  },
  {
   "cell_type": "code",
   "execution_count": null,
   "id": "f6acff49-4386-4909-9af7-be3dd2c963d0",
   "metadata": {},
   "outputs": [],
   "source": [
    "cell_df[\"cell_type_auto\"].value_counts()"
   ]
  },
  {
   "cell_type": "code",
   "execution_count": null,
   "id": "1c575706-cf13-4375-85fc-7e39760caa7e",
   "metadata": {},
   "outputs": [],
   "source": [
    "for ct_name, df in cell_df[cell_df[\"proofreading_strategy\"] != \"\"].groupby(\"cell_type_auto\"):\n",
    "    root_id = int(df.iloc[-1][\"pt_root_id\"])\n",
    "    \n",
    "    sk_d = client.skeleton.get_skeleton(root_id, output_format=\"dict\")\n",
    "\n",
    "    ax = plot_skeleton(sk_d)\n",
    "    ax.set_title(ct_name)\n",
    "    plt.show()"
   ]
  },
  {
   "cell_type": "markdown",
   "id": "a6bc3313-c865-4630-9eac-97cfa641b078",
   "metadata": {},
   "source": [
    "<div style=\"border-left: 3px solid #000; padding: 1px; padding-left: 10px; background: #F0FAFF; \">\n",
    "\n",
    "## Sorting the synapse matrix with cell types\n",
    "    \n",
    "Let's combine the synaptic connecitivity with the cell type information. Below we provide logic for sorting a connectivity matrix using a list of labels.    \n",
    "    \n",
    "</d>"
   ]
  },
  {
   "cell_type": "code",
   "execution_count": null,
   "id": "cf35008e-ab13-45d1-8cde-1af694e11815",
   "metadata": {},
   "outputs": [],
   "source": [
    "def sort_matrix_by_types(mat: pd.DataFrame, \n",
    "                         labels: pd.DataFrame, \n",
    "                         label_type_col: str = \"cell_type_auto\", \n",
    "                         label_id_col: str = \"pt_root_id\", \n",
    "                         post_labels: pd.DataFrame = None, \n",
    "                         post_label_type_col: str = None, \n",
    "                         post_label_id_col: str = None):\n",
    "    \"\"\"Sorts (synapse) matrix by labels.\n",
    "\n",
    "    This function assumes a square synapse matrix!\n",
    "\n",
    "    Args:\n",
    "        mat: synapse matrix as pandas DataFrame\n",
    "        labels: DataFrame with labels, e.g. the output of client.materialize.query_table('aibs_metamodel_celltypes_v661')\n",
    "        label_type_col: column name in labels for cell types\n",
    "        label_id_col: column name in labels for root ids\n",
    "        post_labels: DataFrame with labels, e.g. the output of client.materialize.query_table('aibs_metamodel_celltypes_v661')\n",
    "        post_label_type_col: column name in labels for cell types\n",
    "        post_label_id_col: column name in labels for root ids\n",
    "\n",
    "    Returns:\n",
    "        mat_sorted: sorted matrix\n",
    "        mat_labels: sorted labels; has the same length as matrix\n",
    "    \"\"\"\n",
    "    \n",
    "    if post_labels is None:\n",
    "        post_labels = labels\n",
    "    if post_label_type_col is None:\n",
    "        post_label_type_col = label_type_col\n",
    "    if post_label_id_col is None:\n",
    "        post_label_id_col = label_id_col\n",
    "        \n",
    "    mat_sorted = mat.copy()\n",
    "    \n",
    "    pre_mat_labels = np.array(labels.set_index(label_id_col).loc[mat_sorted.index][label_type_col])\n",
    "    pre_sorting = np.argsort(pre_mat_labels)\n",
    "\n",
    "    post_mat_labels = np.array(post_labels.set_index(post_label_id_col).loc[mat_sorted.T.index][post_label_type_col])\n",
    "    post_sorting = np.argsort(post_mat_labels)\n",
    "\n",
    "    mat_sorted = mat_sorted.iloc[pre_sorting].T.iloc[post_sorting].T\n",
    "\n",
    "    return mat_sorted, pre_mat_labels[pre_sorting], post_mat_labels[post_sorting]"
   ]
  },
  {
   "cell_type": "code",
   "execution_count": null,
   "id": "500c041b-f7cf-4c6a-b014-5e75edbd6315",
   "metadata": {},
   "outputs": [],
   "source": [
    "# Select the proofread excitatory cells\n",
    "proof_proof_syn_table = filter_synapse_table(syn_df, pre_root_ids=proofread_root_ids, post_root_ids=proofread_root_ids)\n",
    "\n",
    "syn_mat = proof_proof_syn_table.pivot_table(index=\"pre_pt_root_id\", columns=\"post_pt_root_id\", \n",
    "                                            values=\"size\", aggfunc=lambda x: np.log(np.sum(x))).fillna(0)\n",
    "\n",
    "syn_mat = syn_mat.reindex(columns=np.array(syn_mat.index))\n",
    "\n",
    "# sort the matrix by cell types to render sensibly in heatmap\n",
    "syn_mat_ct, syn_mat_cell_types, _ = sort_matrix_by_types(syn_mat, cell_df, label_type_col=\"cell_type_auto\")"
   ]
  },
  {
   "cell_type": "code",
   "execution_count": null,
   "id": "13b5e56a-185a-4ae3-b2dd-de1ac88188fa",
   "metadata": {},
   "outputs": [],
   "source": [
    "# add colormap for cell type\n",
    "cts, ct_idx = np.unique(syn_mat_cell_types, return_inverse=True)\n",
    "ct_colors = plt.get_cmap(\"tab10\")(ct_idx)\n",
    "\n",
    "fig, ax = plt.subplots(figsize=(7, 5), dpi=150)\n",
    "sns.heatmap(syn_mat_ct, cmap=\"gray_r\", xticklabels=[], yticklabels=[], \n",
    "            ax=ax, square=True,\n",
    "            cbar_kws={\"label\": \"Log sum synapse size (AU)\"})\n",
    "\n",
    "\n",
    "# Adding row and column colors for cell types\n",
    "for i, color in enumerate(ct_colors):\n",
    "    ax.add_patch(plt.Rectangle(xy=(-0.01, i), width=0.01, height=1, color=color, lw=0,\n",
    "                               transform=ax.get_yaxis_transform(), clip_on=False))\n",
    "\n",
    "for i, color in enumerate(ct_colors):\n",
    "    ax.add_patch(plt.Rectangle(xy=(i, 1), height=0.01, width=1, color=color, lw=0,\n",
    "                               transform=ax.get_xaxis_transform(), clip_on=False))\n",
    "\n",
    "# add a legend for the cell types\n",
    "legend_elements = [matplotlib.lines.Line2D([0], [0], color=plt.get_cmap(\"tab10\")(i), label=ct) for i, ct in enumerate(cts)]\n",
    "plt.legend(handles=legend_elements, loc='upper left', bbox_to_anchor=(1.3, 1), title=\"cell types\")\n",
    "plt.show()"
   ]
  },
  {
   "cell_type": "code",
   "execution_count": null,
   "id": "5d94b769-77c5-4c08-8322-e2637711c2d8",
   "metadata": {},
   "outputs": [],
   "source": []
  },
  {
   "cell_type": "code",
   "execution_count": null,
   "id": "ff649acb-294c-458d-9c19-4dd792c5b31b",
   "metadata": {},
   "outputs": [],
   "source": []
  },
  {
   "cell_type": "code",
   "execution_count": null,
   "id": "9f78befd-a2d6-4836-9a42-138aaef496a5",
   "metadata": {},
   "outputs": [],
   "source": []
  },
  {
   "cell_type": "code",
   "execution_count": null,
   "id": "4aa18fb4-163a-4410-81a7-bb0ac43e8f8a",
   "metadata": {},
   "outputs": [],
   "source": []
  }
 ],
 "metadata": {
  "kernelspec": {
   "display_name": "Python 3 (ipykernel)",
   "language": "python",
   "name": "python3"
  },
  "language_info": {
   "codemirror_mode": {
    "name": "ipython",
    "version": 3
   },
   "file_extension": ".py",
   "mimetype": "text/x-python",
   "name": "python",
   "nbconvert_exporter": "python",
   "pygments_lexer": "ipython3",
   "version": "3.11.9"
  }
 },
 "nbformat": 4,
 "nbformat_minor": 5
}
