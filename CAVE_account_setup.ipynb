{
 "cells": [
  {
   "cell_type": "markdown",
   "id": "2dfebc93-bddb-4406-b31b-1f4487cc6792",
   "metadata": {},
   "source": [
    "<div style=\"border-left: 3px solid #000; padding: 1px; padding-left: 10px; background: #F0FAFF; \">\n",
    "\n",
    "[![Open In Colab](https://colab.research.google.com/assets/colab-badge.svg)](https://colab.research.google.com/github/sdorkenw/AMATH_342_neuronal_circuits/blob/main/CAVE_account_setup.ipynb)\n",
    "   \n",
    "<b> CAVE account setup </b>\n",
    "\n",
    "<p>In order to manage server traffic, every user needs to create a CAVE account and download a user token to access CAVE's services programmatically. The CAVE infrastructure can be read about in <a href='https://www.biorxiv.org/content/10.1101/2023.07.26.550598v1'>more detail on our preprint</a>. The MICrONS data is publicly available which means that no extra permissions need to be given to a new user account to access the data. Bulk downloads of some static data are also available without an account on <a href='https://microns-explorer.org/'> MICrONs Explorer</a>.\n",
    "\n",
    "<b> A Google account (or Google-enabled account) is required to create a CAVE account.\n",
    "\n",
    "<p> Go to: <a href=https://global.daf-apis.com/auth/api/v1/user/token> https://global.daf-apis.com/auth/api/v1/user/token </a>to view a list of your existing tokens\n",
    "<p> If you have never made a token before: \n",
    "<ol>\n",
    "  <li>go here: <a href=https://minnie.microns-daf.com/materialize/views/datastack/minnie65_public>https://minnie.microns-daf.com/materialize/views/datastack/minnie65_public</a> to accept terms of service</li>\n",
    "  <li>then go here <a href=https://global.daf-apis.com/auth/api/v1/create_token> https://global.daf-apis.com/auth/api/v1/create_token</a> to create a new token.</li>\n",
    "</ol>\n",
    "\n",
    "</div>"
   ]
  },
  {
   "cell_type": "code",
   "execution_count": null,
   "id": "0e3da45b-1185-4c81-8ecd-4b828a226a7a",
   "metadata": {},
   "outputs": [],
   "source": [
    "%%capture\n",
    "!pip install -q caveclient"
   ]
  },
  {
   "cell_type": "code",
   "execution_count": null,
   "id": "19889a96-47f5-4013-8473-f6aa17157992",
   "metadata": {},
   "outputs": [],
   "source": [
    "import caveclient\n",
    "\n",
    "my_token = \"PASTE_TOKEN_HERE\"\n",
    "client = caveclient.CAVEclient(\"minnie65_public\", auth_token=my_token)"
   ]
  },
  {
   "cell_type": "markdown",
   "id": "db92a0b4-78b9-42b1-ad67-dfcd56884bf7",
   "metadata": {},
   "source": [
    "<div style=\"border-left: 3px solid #000; padding: 1px; padding-left: 10px; background: #F0FAFF; \">\n",
    "   \n",
    "<p>If you are running this on your local machine rather than colab, you may also store the token on your machine. This makes future access easier as you do not have to specify the token.\n",
    "\n",
    "</div>"
   ]
  },
  {
   "cell_type": "code",
   "execution_count": null,
   "id": "59e2774e-7801-42b1-9e1b-5700da31cd4f",
   "metadata": {},
   "outputs": [],
   "source": [
    "# client.auth.save_token(token=my_token, overwrite=True)"
   ]
  },
  {
   "cell_type": "code",
   "execution_count": null,
   "id": "85e86cac-7788-46bb-8b12-bd6bfde18b3d",
   "metadata": {},
   "outputs": [],
   "source": []
  }
 ],
 "metadata": {
  "kernelspec": {
   "display_name": "Python 3 (ipykernel)",
   "language": "python",
   "name": "python3"
  },
  "language_info": {
   "codemirror_mode": {
    "name": "ipython",
    "version": 3
   },
   "file_extension": ".py",
   "mimetype": "text/x-python",
   "name": "python",
   "nbconvert_exporter": "python",
   "pygments_lexer": "ipython3",
   "version": "3.11.9"
  }
 },
 "nbformat": 4,
 "nbformat_minor": 5
}
